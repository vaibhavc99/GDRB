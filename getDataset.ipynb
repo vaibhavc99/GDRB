{
 "cells": [
  {
   "cell_type": "code",
   "execution_count": null,
   "metadata": {},
   "outputs": [],
   "source": [
    "from rdflib import Graph\n",
    "import os\n",
    "import pandas as pd"
   ]
  },
  {
   "cell_type": "code",
   "execution_count": null,
   "metadata": {},
   "outputs": [],
   "source": [
    "import warnings\n",
    "warnings.filterwarnings(\"ignore\")"
   ]
  },
  {
   "cell_type": "code",
   "execution_count": null,
   "metadata": {},
   "outputs": [],
   "source": [
    "def extract_favel_triples(path):\n",
    "        g = Graph()\n",
    "        g.parse(path)\n",
    "        for s, p, o in g.triples((None,  None, None)):\n",
    "            return str(s), str(p), str(o)"
   ]
  },
  {
   "cell_type": "code",
   "execution_count": null,
   "metadata": {},
   "outputs": [],
   "source": [
    "import os\n",
    "def getFavel(path):\n",
    "        triples = pd.DataFrame(data=[], columns=['subject','predicate','object','truth'])\n",
    "        paths = [os.path.join(path,'Turtle/Test/Correct/'), \n",
    "                 os.path.join(path,'Turtle/Test/Wrong/'), \n",
    "                 os.path.join(path,'Turtle/Train/Correct/'), \n",
    "                 os.path.join(path,'Turtle/Train/Wrong/')]\n",
    "        for p in paths:\n",
    "            for root, dirs, files in os.walk(p):\n",
    "                for name in files:\n",
    "                    triple = extract_favel_triples(root+'/'+name)\n",
    "                    if p.find(\"Correct\") != -1:\n",
    "                        triple=triple+(str(1),)\n",
    "                    else:\n",
    "                        triple=triple+(str(0),)\n",
    "                    triples = triples.append({'subject':triple[0], 'predicate':triple[1], 'object':triple[2], 'truth':triple[3]}, ignore_index=True)\n",
    "        return triples"
   ]
  },
  {
   "cell_type": "code",
   "execution_count": null,
   "metadata": {},
   "outputs": [],
   "source": [
    "def getInput():\n",
    "        result = []\n",
    "        df = getFavel(\"/Users/palaniappanmuthuraman/Documents/favel_private/Datasets/FinalDataset\")\n",
    "        result = parseTriples(df)\n",
    "        return result\n",
    "            \n",
    "def parseTriples(df):\n",
    "        result = []\n",
    "        for i, (s,p,o,t) in df.iterrows():\n",
    "            result.append((s,p,o,t))\n",
    "        return result"
   ]
  },
  {
   "cell_type": "code",
   "execution_count": null,
   "metadata": {},
   "outputs": [],
   "source": [
    "datas = getInput()\n",
    "favelDataframe = pd.DataFrame(datas,columns=['subject','predicate','object','truth_value'])\n",
    "favelDataframe.to_csv('favel_dataset.csv',index=False)"
   ]
  },
  {
   "cell_type": "code",
   "execution_count": null,
   "metadata": {},
   "outputs": [],
   "source": [
    "def extract_bpdp_triples(file):\n",
    "        subject = \"\"\n",
    "        object_g = \"\"\n",
    "        g = Graph()\n",
    "        g.parse(file)\n",
    "        if file.find(\"birth\") != -1:\n",
    "            predicate1 = \"http://dbpedia.org/ontology/birth\"\n",
    "            predicate2 = \"http://dbpedia.org/ontology/birthPlace\"\n",
    "        else:\n",
    "            predicate1 = \"http://dbpedia.org/ontology/death\"\n",
    "            predicate2 = \"http://dbpedia.org/ontology/deathPlace\"\n",
    "        for s, p, o in g.triples((None,  None, None)):\n",
    "            if str(p) == predicate1:\n",
    "                subject=str(s)\n",
    "            if str(p) == predicate2:\n",
    "                object_g=str(o)\n",
    "        return subject, predicate2, object_g"
   ]
  },
  {
   "cell_type": "code",
   "execution_count": null,
   "metadata": {},
   "outputs": [],
   "source": [
    "def getBPDP(path):\n",
    "        \n",
    "        triples = pd.DataFrame(data=[], columns=['subject','predicate','object','truth'])\n",
    "        paths = [os.path.join(path,'Test/True/'), \n",
    "                 os.path.join(path,'Test/False/'), \n",
    "                 os.path.join(path,'Train/True/'), \n",
    "                 os.path.join(path,'Train/False/')]\n",
    "\n",
    "        for p in paths:\n",
    "            for root, dirs, files in os.walk(p):\n",
    "                for name in files:\n",
    "                    \n",
    "                    triple = extract_bpdp_triples(p+name)\n",
    "                    if p.find(\"True\") != -1:\n",
    "                        triple=triple+(str(1),)\n",
    "                    else:\n",
    "                        triple=triple+(str(0),)\n",
    "                    triples = triples.append({'subject':triple[0], 'predicate':triple[1], 'object':triple[2], 'truth_value':triple[3]}, ignore_index=True)\n",
    "        return triples"
   ]
  },
  {
   "cell_type": "code",
   "execution_count": null,
   "metadata": {},
   "outputs": [],
   "source": [
    "bpdpdata = getBPDP(\"/Users/palaniappanmuthuraman/Documents/favel_private/Datasets/BPDP_Dataset\")\n",
    "bpdpdataFrame = pd.DataFrame(bpdpdata,columns=['subject','predicate','object','truth_value'])\n",
    "bpdpdataFrame.to_csv('bpdp_dataset.csv',index=False)"
   ]
  },
  {
   "cell_type": "code",
   "execution_count": null,
   "metadata": {},
   "outputs": [],
   "source": [
    "def extract_ids(graph):\n",
    "        ids = []\n",
    "        for s,_,_ in graph:\n",
    "            ids.append(s)\n",
    "        return list(set(ids))"
   ]
  },
  {
   "cell_type": "code",
   "execution_count": null,
   "metadata": {},
   "outputs": [],
   "source": [
    "def getFactbench(path):\n",
    "        graph = Graph()\n",
    "        \n",
    "        for root, dirs, files in os.walk(path):\n",
    "            for name in files:\n",
    "                graph.parse(path+name, format=\"nt\")\n",
    "                \n",
    "        ids = extract_ids(graph)\n",
    "        \n",
    "        triples = pd.DataFrame(data=[], columns=['subject','predicate','object','truth'])\n",
    "        for id in ids:\n",
    "            for _,p,o in graph.triples((id, None, None)):\n",
    "                if str(p) == \"http://swc2017.aksw.org/hasTruthValue\":\n",
    "                    if(str(o)=='1.0'):\n",
    "                        truth = 1\n",
    "                    else:\n",
    "                        truth = 0\n",
    "                if str(p).find(\"object\") != -1:\n",
    "                    object_elt=str(o)\n",
    "                if str(p).find(\"predicate\") != -1:\n",
    "                    predicate=str(o)\n",
    "                if str(p).find(\"subject\") != -1:\n",
    "                    subject=str(o)\n",
    "            triples = triples.append({'subject':subject, 'predicate':predicate, 'object':object_elt, 'truth_value':truth}, ignore_index=True)\n",
    "\n",
    "        return triples"
   ]
  },
  {
   "cell_type": "code",
   "execution_count": null,
   "metadata": {},
   "outputs": [],
   "source": [
    "factBenchData = getFactbench(\"/Users/palaniappanmuthuraman/Documents/favel_private/Datasets/factbench/\")\n",
    "factBenchdataFrame = pd.DataFrame(factBenchData,columns=['subject','predicate','object','truth_value'])\n",
    "factBenchdataFrame.to_csv('factbench_dataset.csv',index=False)"
   ]
  },
  {
   "cell_type": "code",
   "execution_count": null,
   "metadata": {},
   "outputs": [],
   "source": []
  }
 ],
 "metadata": {
  "kernelspec": {
   "display_name": "Python 3.10.8 64-bit",
   "language": "python",
   "name": "python3"
  },
  "language_info": {
   "codemirror_mode": {
    "name": "ipython",
    "version": 3
   },
   "file_extension": ".py",
   "mimetype": "text/x-python",
   "name": "python",
   "nbconvert_exporter": "python",
   "pygments_lexer": "ipython3",
   "version": "3.10.8"
  },
  "orig_nbformat": 4,
  "vscode": {
   "interpreter": {
    "hash": "b0fa6594d8f4cbf19f97940f81e996739fb7646882a419484c72d19e05852a7e"
   }
  }
 },
 "nbformat": 4,
 "nbformat_minor": 2
}
