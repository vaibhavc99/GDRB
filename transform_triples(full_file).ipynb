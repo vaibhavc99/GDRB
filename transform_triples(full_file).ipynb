{
 "cells": [
  {
   "cell_type": "code",
   "execution_count": null,
   "id": "963aa89f",
   "metadata": {},
   "outputs": [],
   "source": [
    "import pandas as pd\n",
    "import pprint\n",
    "pp = pprint.PrettyPrinter(indent= 4)"
   ]
  },
  {
   "cell_type": "code",
   "execution_count": null,
   "id": "383b2c10",
   "metadata": {},
   "outputs": [],
   "source": [
    "import warnings\n",
    "warnings.filterwarnings(\"ignore\")"
   ]
  },
  {
   "cell_type": "code",
   "execution_count": null,
   "id": "2eee8eb7",
   "metadata": {},
   "outputs": [],
   "source": [
    "df = pd.read_csv(\"factbench_dataset.csv\")\n",
    "bpdpdf = pd.read_csv(\"bpdp_dataset.csv\")\n",
    "factBenchDf = pd.read_csv(\"factbench_dataset.csv\")\n",
    "df = df.append(bpdpdf)\n",
    "df = df.append(factBenchDf)\n",
    "df.shape"
   ]
  },
  {
   "cell_type": "code",
   "execution_count": null,
   "id": "46c76f18",
   "metadata": {},
   "outputs": [],
   "source": [
    "df['subject'] = df['subject'].apply(lambda x: x.split('/')[-1])\n",
    "df['predicate'] = df['predicate'].apply(lambda x: x.split('/')[-1])\n",
    "df['object'] = df['object'].apply(lambda x: x.split('/')[-1])\n",
    "df"
   ]
  },
  {
   "cell_type": "code",
   "execution_count": null,
   "id": "53222d05",
   "metadata": {},
   "outputs": [],
   "source": [
    "df['subject'] = df['subject'].apply(lambda x: '<{}>'.format(x))\n",
    "df['predicate'] = df['predicate'].apply(lambda x: '<{}>'.format(x))\n",
    "df['object'] = df['object'].apply(lambda x: '<{}>'.format(x))\n",
    "df.head(2)"
   ]
  },
  {
   "cell_type": "code",
   "execution_count": null,
   "id": "5aa448a5",
   "metadata": {},
   "outputs": [],
   "source": [
    "str_nodes_path = \"/Users/palaniappanmuthuraman/Documents/GDRB/SourceCode-GFC/sample_data/gfc_str_nodes.tsv\"\n",
    "colnames=['subject','wordnet_description'] \n",
    "str_nodes_df = pd.read_csv(str_nodes_path,sep='\\t',names = colnames)\n",
    "str_nodes_df.head(1)\n",
    "str_nodes_df.shape"
   ]
  },
  {
   "cell_type": "code",
   "execution_count": null,
   "id": "099ff453",
   "metadata": {},
   "outputs": [],
   "source": [
    "str_edges_path = \"/Users/palaniappanmuthuraman/Documents/GDRB/SourceCode-GFC/sample_data/gfc_str_edges.tsv\"\n",
    "colnames=['subject','object','predicate']\n",
    "str_edges_df = pd.read_csv(str_edges_path,sep='\\t',names = colnames)\n",
    "str_edges_df.head(1)"
   ]
  },
  {
   "cell_type": "code",
   "execution_count": null,
   "id": "df5b24ef",
   "metadata": {},
   "outputs": [],
   "source": [
    "str_ontology = \"/Users/palaniappanmuthuraman/Documents/GDRB/SourceCode-GFC/sample_data/gfc_str_ontology.tsv\"\n",
    "colnames=['subject','object','predicate']\n",
    "str_edges_df = pd.read_csv(str_edges_path,sep='\\t',names = colnames)\n",
    "str_edges_df.head(1)"
   ]
  },
  {
   "cell_type": "code",
   "execution_count": null,
   "id": "b7b3f4d9",
   "metadata": {},
   "outputs": [],
   "source": [
    "import io\n",
    "with open(\"/Users/palaniappanmuthuraman/Documents/GDRB/SourceCode-GFC/sample_data/gfc_str_ontology.tsv\",\"rb\") as file:\n",
    "    totalHashMap = {}\n",
    "    fb = io.BufferedReader(file)\n",
    "    while fb.readline():\n",
    "        line = fb.readline().decode('utf-8')\n",
    "        tokens = line.split(\"\\t\")\n",
    "        child = tokens[0]\n",
    "        hashMap = {'child':'','subchildMap':[]}\n",
    "        hashMap['child'] = child\n",
    "        for index,token in enumerate(tokens):\n",
    "            if(token != child):\n",
    "                hashMap['subchildMap'].append(token)\n",
    "        totalHashMap[child] = hashMap\n",
    "    print(len(totalHashMap))\n",
    "    print(list(totalHashMap)[0])\n"
   ]
  },
  {
   "cell_type": "code",
   "execution_count": null,
   "id": "4861ac91",
   "metadata": {},
   "outputs": [],
   "source": [
    "global objectFound \n",
    "objectFound = 0\n",
    "global subejctFound \n",
    "subjectFound = 0"
   ]
  },
  {
   "cell_type": "code",
   "execution_count": null,
   "id": "92d6a6c4",
   "metadata": {},
   "outputs": [],
   "source": [
    "def getSubjectObjectOntology(predicate,returnType):\n",
    "    subject = \"\"\n",
    "    object = \"\"\n",
    "    if predicate == \"<director>\":\n",
    "        subject =  \"<wordnet_movie_106613686>\"\n",
    "        object =  \"<wordnet_director_110014939>\"\n",
    "    elif predicate == \"<starring>\":\n",
    "        subject = \"<wordnet_movie_106613686>\"\n",
    "        object = \"<wordnet_actor_109765278>\"\n",
    "    elif predicate == \"<producer>\":\n",
    "        subject = \"<wikicategory_American_film_producers>\"\n",
    "        object = \"<wordnet_company_108058098>\"\n",
    "    elif predicate == \"<productionCompany>\":\n",
    "        subject = \"<wordnet_movie_106613686>\"\n",
    "        object = \"<wordnet_company_108058098>\"\n",
    "    elif predicate == \"<award>\":\n",
    "        subject = \"<wordnet_person_100007846>\"\n",
    "        object = \"<wordnet_award_106696483>\"\n",
    "    elif predicate == \"<education>\":\n",
    "        subject = \"<wordnet_person_100007846>\"\n",
    "        object = \"<wordnet_university_108286569>\"\n",
    "    elif predicate == \"<birthPlace>\":\n",
    "        subject = \"<wordnet_person_100007846>\"\n",
    "        object = \"<wordnet_city_108524735>\"\n",
    "    elif predicate == \"<deathPlace>\":\n",
    "        subject = \"<wordnet_person_100007846>\"\n",
    "        object = \"<wordnet_city_108524735>\"\n",
    "    elif predicate == \"<team>\":\n",
    "        subject = \"<wordnet_player_110439851>\"\n",
    "        object = \"<wordnet_team_108208560>\"\n",
    "    if(returnType == \"subject\"):\n",
    "        return subject\n",
    "    else:\n",
    "        return object"
   ]
  },
  {
   "cell_type": "code",
   "execution_count": null,
   "id": "8cf5bbdb",
   "metadata": {},
   "outputs": [],
   "source": [
    "def getSubjectRelation(subject,predicate):\n",
    "    data = str_nodes_df.loc[str_nodes_df['subject'] == subject]\n",
    "    if(data.empty) : \n",
    "        return getSubjectObjectOntology(predicate=predicate,returnType=\"subject\")\n",
    "    else:\n",
    "        global subjectFound\n",
    "        subjectFound = subjectFound + 1\n",
    "        return data['wordnet_description'].values[0]\n"
   ]
  },
  {
   "cell_type": "code",
   "execution_count": null,
   "id": "40f9fe5e",
   "metadata": {},
   "outputs": [],
   "source": [
    "def getObjectRelation(object,predicate):\n",
    "    objData = str_nodes_df.loc[str_nodes_df['subject'] == object]\n",
    "    if(objData.empty):\n",
    "        return getSubjectObjectOntology(predicate=predicate,returnType=\"object\")\n",
    "    else:\n",
    "        global objectFound\n",
    "        objectFound = objectFound + 1\n",
    "        return objData['wordnet_description'].values[0]"
   ]
  },
  {
   "cell_type": "code",
   "execution_count": null,
   "id": "d0ebda7a",
   "metadata": {},
   "outputs": [],
   "source": [
    "def getPredicate(predicate):\n",
    "    if predicate == '<starring>':\n",
    "        return \"<actedIn>\"\n",
    "    elif predicate == '<director>':\n",
    "        return \"<directed>\"\n",
    "    elif predicate == '<producer>' | predicate == '<productionCompany>' | predicate == '<author>':\n",
    "        return \"<created>\"\n",
    "    elif predicate == \"<award>\":\n",
    "        return \"<hasWonPrize>\"\n",
    "    elif predicate == \"<education>\":\n",
    "        return \"<graduatedFrom>\"\n",
    "    elif predicate == \"<birthPlace>\":\n",
    "        return \"<wasBornIn>\"\n",
    "    elif predicate == \"<deathPlace>\":\n",
    "        return \"<diedIn>\"\n",
    "    elif predicate == \"<team>\":\n",
    "        return \"<isAffiliatedTo>\"\n",
    "    else:\n",
    "        return predicate"
   ]
  },
  {
   "cell_type": "code",
   "execution_count": null,
   "id": "3d12ed80",
   "metadata": {},
   "outputs": [],
   "source": [
    "transformedDf = pd.DataFrame(columns = ['transformedData'])\n",
    "for index,data in df.iterrows():\n",
    "    transformedDf.loc[index] = data['subject'] + \",\" + getSubjectRelation(data['subject'],data['predicate']) + \",\" + getPredicate(data['predicate']) + \",\" + data['object'] + \",\"  + getObjectRelation(data['object'],data['predicate']) + \",\" + str(data['truth_value'])\n",
    "with open(\"transformed_files.tsv\",'w') as write_csv:\n",
    "    write_csv.write(transformedDf.to_csv(sep='\\t', index=False))\n",
    "print(objectFound)\n",
    "print(subjectFound)"
   ]
  },
  {
   "cell_type": "code",
   "execution_count": null,
   "id": "c1911de6",
   "metadata": {},
   "outputs": [],
   "source": [
    "import csv\n",
    "def checkFile():\n",
    "    with open(\"transformed_files.tsv\",'r') as f:\n",
    "        reader = csv.reader(f, delimiter=\"\\t\")\n",
    "        for i, line in enumerate(reader):\n",
    "            if i == 0:\n",
    "                continue\n",
    "            tokens = line[0].split(',')\n",
    "            if(len(tokens) != 6):\n",
    "                print('This line {} have {} tokens'.format(i,len(tokens)))\n",
    "                # raise Exception(\"Invalid Format\")"
   ]
  },
  {
   "cell_type": "code",
   "execution_count": null,
   "id": "219e1c20",
   "metadata": {},
   "outputs": [],
   "source": [
    "checkFile()"
   ]
  },
  {
   "cell_type": "code",
   "execution_count": null,
   "id": "80fe85dc",
   "metadata": {},
   "outputs": [],
   "source": []
  }
 ],
 "metadata": {
  "kernelspec": {
   "display_name": "Python 3.10.8 64-bit",
   "language": "python",
   "name": "python3"
  },
  "language_info": {
   "codemirror_mode": {
    "name": "ipython",
    "version": 3
   },
   "file_extension": ".py",
   "mimetype": "text/x-python",
   "name": "python",
   "nbconvert_exporter": "python",
   "pygments_lexer": "ipython3",
   "version": "3.10.8"
  },
  "vscode": {
   "interpreter": {
    "hash": "b0fa6594d8f4cbf19f97940f81e996739fb7646882a419484c72d19e05852a7e"
   }
  }
 },
 "nbformat": 4,
 "nbformat_minor": 5
}
